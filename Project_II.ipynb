{
 "cells": [
  {
   "cell_type": "markdown",
   "metadata": {},
   "source": [
    "## Research Question "
   ]
  },
  {
   "cell_type": "markdown",
   "metadata": {},
   "source": [
    "#### Group 4: Christopher Perez, Ernesto Perez, Kevin Santamaria"
   ]
  },
  {
   "cell_type": "code",
   "execution_count": 1,
   "metadata": {},
   "outputs": [],
   "source": [
    "import pandas as pd\n",
    "pd.options.mode.chained_assignment = None \n",
    "import matplotlib.pyplot as plt"
   ]
  },
  {
   "cell_type": "markdown",
   "metadata": {},
   "source": [
    "### Part I. Importing the data"
   ]
  },
  {
   "cell_type": "code",
   "execution_count": 2,
   "metadata": {},
   "outputs": [],
   "source": [
    "df = pd.read_csv('dec19pub.csv')\n",
    "df2 = pd.read_csv('hhpub19.csv')\n",
    "df3 = pd.read_csv('pppub19.csv')\n",
    "df4 = pd.read_csv('ffpub19.csv')"
   ]
  },
  {
   "cell_type": "code",
   "execution_count": 3,
   "metadata": {},
   "outputs": [
    {
     "data": {
      "text/plain": [
       "-1    124421\n",
       " 2      9728\n",
       " 1      4713\n",
       "-9        45\n",
       "-3        37\n",
       "-2        20\n",
       "Name: HESH2, dtype: int64"
      ]
     },
     "execution_count": 3,
     "metadata": {},
     "output_type": "execute_result"
    }
   ],
   "source": [
    "#Pg 132- 'In the last 12 months did (you/you or other adults in your household) ever cut the size of your meals or skip meals because there wasn't enough money for food?'\n",
    "\n",
    "# 1:Yes \n",
    "# 2:No \n",
    "# -1: (blank)\n",
    "# -2:Don't Know \n",
    "# -3:Refused\n",
    "# 9:No Response\n",
    "\n",
    "df['HESH2'].value_counts()"
   ]
  },
  {
   "cell_type": "code",
   "execution_count": 4,
   "metadata": {},
   "outputs": [
    {
     "data": {
      "text/plain": [
       "2    67275\n",
       "0    26288\n",
       "1     1070\n",
       "Name: HINC_FR, dtype: int64"
      ]
     },
     "execution_count": 4,
     "metadata": {},
     "output_type": "execute_result"
    }
   ],
   "source": [
    "# Farm self-employment\n",
    "#0 = nui \n",
    "#1 = yes\n",
    "#2 = no\n",
    "\n",
    "df2['HINC_FR'].value_counts()"
   ]
  },
  {
   "cell_type": "code",
   "execution_count": 5,
   "metadata": {},
   "outputs": [
    {
     "data": {
      "text/plain": [
       "1    51533\n",
       "0    26288\n",
       "2    16812\n",
       "Name: HINC_WS, dtype: int64"
      ]
     },
     "execution_count": 5,
     "metadata": {},
     "output_type": "execute_result"
    }
   ],
   "source": [
    "# Own Business Self-Employment\n",
    "#0 = nui \n",
    "#1 = yes\n",
    "#2 = no\n",
    "\n",
    "df2['HINC_WS'].value_counts()"
   ]
  },
  {
   "cell_type": "code",
   "execution_count": 6,
   "metadata": {},
   "outputs": [
    {
     "data": {
      "text/plain": [
       "0     26288\n",
       "2     21659\n",
       "1     17197\n",
       "3     11162\n",
       "4     10392\n",
       "5      4878\n",
       "6      1991\n",
       "7       651\n",
       "8       242\n",
       "9        90\n",
       "10       51\n",
       "11       17\n",
       "13        8\n",
       "12        4\n",
       "14        2\n",
       "16        1\n",
       "Name: H_NUMPER, dtype: int64"
      ]
     },
     "execution_count": 6,
     "metadata": {},
     "output_type": "execute_result"
    }
   ],
   "source": [
    "#Number of persons in household\n",
    "#00=Noninterview household      01-16 = Number of persons in HHLD\n",
    "\n",
    "df2[\"H_NUMPER\"].value_counts()"
   ]
  },
  {
   "cell_type": "code",
   "execution_count": 7,
   "metadata": {},
   "outputs": [
    {
     "data": {
      "text/plain": [
       "3    36727\n",
       "4    24782\n",
       "2    17504\n",
       "1    15620\n",
       "Name: GEREG, dtype: int64"
      ]
     },
     "execution_count": 7,
     "metadata": {},
     "output_type": "execute_result"
    }
   ],
   "source": [
    "# Region \n",
    "# 1 = Northeast          \n",
    "# 2 = Midwest          \n",
    "# 3 = South          \n",
    "# 4 = West\n",
    "\n",
    "df2[\"GEREG\"].value_counts()"
   ]
  },
  {
   "cell_type": "code",
   "execution_count": 8,
   "metadata": {},
   "outputs": [
    {
     "data": {
      "text/plain": [
       "1    75271\n",
       "2    18375\n",
       "3      987\n",
       "Name: GTMETSTA, dtype: int64"
      ]
     },
     "execution_count": 8,
     "metadata": {},
     "output_type": "execute_result"
    }
   ],
   "source": [
    "# Metropolitan Status\n",
    "# 1 = Metropolitan          2 = Non-metropolitan          3 = Not identified\n",
    "\n",
    "df2[\"GTMETSTA\"].value_counts()"
   ]
  },
  {
   "cell_type": "code",
   "execution_count": 9,
   "metadata": {},
   "outputs": [],
   "source": [
    "# Family Income \n",
    "# -1=Not in universe         \n",
    "#01=Less than $5,000         02=$5,000 to $7,499         03=$7,500 to $9,999         04=$10,000 to $12,499         05=$12,500 to $14,999         \n",
    "#06=$15,000 to $19,999         07=$20,000 to $24,999         08=$25,000 to $29,999         09=$30,000 to $34,999         10=$35,000 to $39,999         11=$40,000 to $49,999         \n",
    "#12=$50,000 to $59,999         13=$60,000 to $74,999         14=$75,000 to $99,999         15=$100,000 to $149,999         16=$150,000 and over\n",
    "\n",
    "df2[\"HEFAMINC\"].value_counts()\n",
    "\n",
    "family_income = df2[\"HEFAMINC\"]"
   ]
  },
  {
   "cell_type": "code",
   "execution_count": 10,
   "metadata": {},
   "outputs": [
    {
     "data": {
      "text/plain": [
       "0    72759\n",
       "1    10622\n",
       "2     7550\n",
       "3     2694\n",
       "4      718\n",
       "5      216\n",
       "6       52\n",
       "7       15\n",
       "8        4\n",
       "9        3\n",
       "Name: HH5TO18, dtype: int64"
      ]
     },
     "execution_count": 10,
     "metadata": {},
     "output_type": "execute_result"
    }
   ],
   "source": [
    "#Number of persons in household age 5 to 18 excluding family heads and spouse \n",
    "# 00 = None      01-16 = Number persons 5 to 18\n",
    "\n",
    "df2[\"HH5TO18\"].value_counts()"
   ]
  },
  {
   "cell_type": "code",
   "execution_count": 11,
   "metadata": {},
   "outputs": [
    {
     "data": {
      "text/plain": [
       "1     33987\n",
       "0     26288\n",
       "7     11179\n",
       "6     10152\n",
       "4      8763\n",
       "3      3695\n",
       "2       488\n",
       "10       30\n",
       "8        19\n",
       "5        18\n",
       "9        14\n",
       "Name: HRHTYPE, dtype: int64"
      ]
     },
     "execution_count": 11,
     "metadata": {},
     "output_type": "execute_result"
    }
   ],
   "source": [
    "# HOUSEHOLD TYPE\n",
    "#00 = Non-interview household         01 = Married couple primary family (neither spouse in Armed Forces)         02 = Married couple primary family (one spouse in Armed Forces)         03 = Unmarried civilian male primary family householder         04 = Unmarried civilian female primary family householder         05 = Primary family household -reference person in Armed Forces and unmarried         06 = Civilian male nonfamily householder         07 = Civilian female nonfamily householder         08 = Nonfamily householder household -reference person in Armed Forces         09 = Group quarters with actual families  (This is new in 1994)         10 = Group quarters with secondary individuals only\n",
    "\n",
    "df2[\"HRHTYPE\"].value_counts()"
   ]
  },
  {
   "cell_type": "code",
   "execution_count": 12,
   "metadata": {},
   "outputs": [
    {
     "data": {
      "text/plain": [
       "1    71932\n",
       "0    19812\n",
       "2     2889\n",
       "Name: H_TELHHD, dtype: int64"
      ]
     },
     "execution_count": 12,
     "metadata": {},
     "output_type": "execute_result"
    }
   ],
   "source": [
    "# Telephone in Household\n",
    "#0 = Not in universe          1 = Yes          2 = No\n",
    "\n",
    "df2[\"H_TELHHD\"].value_counts()"
   ]
  },
  {
   "cell_type": "code",
   "execution_count": 13,
   "metadata": {},
   "outputs": [
    {
     "data": {
      "text/plain": [
       "1    48839\n",
       "2    26451\n",
       "0    18369\n",
       "3      974\n",
       "Name: H_TENURE, dtype: int64"
      ]
     },
     "execution_count": 13,
     "metadata": {},
     "output_type": "execute_result"
    }
   ],
   "source": [
    "# Tenure\n",
    "# 0=Not in universe          1=Owned or being bought          2=Rented         3=No cash rent\n",
    "\n",
    "df2[\"H_TENURE\"].value_counts()"
   ]
  },
  {
   "cell_type": "code",
   "execution_count": 14,
   "metadata": {},
   "outputs": [
    {
     "data": {
      "text/plain": [
       "0     26288\n",
       "41    21122\n",
       "13     1827\n",
       "21     1759\n",
       "15     1716\n",
       "11     1665\n",
       "9      1664\n",
       "1      1659\n",
       "17     1623\n",
       "7      1599\n",
       "5      1592\n",
       "19     1474\n",
       "25     1469\n",
       "8      1387\n",
       "10     1375\n",
       "23     1336\n",
       "6      1330\n",
       "31     1245\n",
       "4      1228\n",
       "29     1216\n",
       "14     1202\n",
       "12     1198\n",
       "27     1186\n",
       "16     1174\n",
       "33     1113\n",
       "20     1074\n",
       "18     1064\n",
       "22     1031\n",
       "37     1008\n",
       "24      988\n",
       "35      988\n",
       "26      975\n",
       "28      907\n",
       "39      851\n",
       "32      834\n",
       "30      822\n",
       "34      716\n",
       "36      665\n",
       "38      610\n",
       "40      595\n",
       "3       583\n",
       "2       475\n",
       "Name: HHINC, dtype: int64"
      ]
     },
     "execution_count": 14,
     "metadata": {},
     "output_type": "execute_result"
    }
   ],
   "source": [
    "#Total HouseHold Income\n",
    "#UNDER $2,500    2=$2,500 TO $4,999    3=$5,000 TO $7,499    4=$7,500 TO $9,999    5=$10,000 TO $12,499    6=$12,500 TO $14,999    7=$15,000 TO $17,499    8=$17,500 TO $19,999    9=$20,000 TO $22,499    10=$22,500 TO $24,999\n",
    "#11=$25,000 TO $27,49912=$27,500 TO $29,99913=$30,000 TO $32,49914=$32,500 TO $34,99915=$35,000 TO $37,49916=$37,500 TO $39,99917=$40,000 TO $42,49918=$42,500 TO $44,99919=$45,000 TO $47,49920=$47,500 TO $49,999\n",
    "#21=$50,000 TO $52,49922=$52,500 TO $54,99923=$55,000 TO $57,49924=$57,500 TO $59,99925=$60,000 TO $62,49926=$62,500 TO $64,99927=$65,000 TO $67,49928=$67,500 TO $69,99929=$70,000 TO $72,49930=$72,500 TO $74,999\n",
    "#31=$75,000 TO $77,49932=$77,500 TO $79,99933=$80,000 TO $82,49934=$82,500 TO $84,99935=$85,000 TO $87,49936=$87,500 TO $89,99937=$90,000 TO $92,49938=$92,500 TO $94,99939=$95,000 TO $97,49940=$97,500 TO $99,99941=$100,000 AND OVER\n",
    "\n",
    "df2[\"HHINC\"].value_counts()"
   ]
  },
  {
   "cell_type": "code",
   "execution_count": 15,
   "metadata": {},
   "outputs": [
    {
     "name": "stdout",
     "output_type": "stream",
     "text": [
      "-19356 1102199\n"
     ]
    }
   ],
   "source": [
    "# Household income = self-employment income \n",
    "# 0 = none negative dollar amount = income losspositive dollar amount = income\n",
    "\n",
    "print(df2[\"HSEVAL\"].min(), df2[\"HSEVAL\"].max())"
   ]
  },
  {
   "cell_type": "code",
   "execution_count": 16,
   "metadata": {},
   "outputs": [
    {
     "data": {
      "text/plain": [
       "2    67046\n",
       "0    26288\n",
       "1     1299\n",
       "Name: HDIS_YN, dtype: int64"
      ]
     },
     "execution_count": 16,
     "metadata": {},
     "output_type": "execute_result"
    }
   ],
   "source": [
    "# Does anyone in the household have a disability or health problem which prevented them from working, even for a short time, or which limited the work they could do?\n",
    "# 0 = niu 1 = yes 2 = no\n",
    "\n",
    "df2[\"HDIS_YN\"].value_counts()"
   ]
  },
  {
   "cell_type": "code",
   "execution_count": 17,
   "metadata": {},
   "outputs": [
    {
     "data": {
      "text/plain": [
       "2    56438\n",
       "0    26288\n",
       "1    11907\n",
       "Name: HDIV_YN, dtype: int64"
      ]
     },
     "execution_count": 17,
     "metadata": {},
     "output_type": "execute_result"
    }
   ],
   "source": [
    "# At any time during 20.. did anyone in this household: own any shares of stock in corporations or any mutual fund shares?\n",
    "# 0 = niu 1 = yes 2 = no\n",
    "\n",
    "df2[\"HDIV_YN\"].value_counts()"
   ]
  },
  {
   "cell_type": "code",
   "execution_count": 18,
   "metadata": {},
   "outputs": [
    {
     "data": {
      "text/plain": [
       "2    66671\n",
       "0    26288\n",
       "1     1674\n",
       "Name: HINC_UC, dtype: int64"
      ]
     },
     "execution_count": 18,
     "metadata": {},
     "output_type": "execute_result"
    }
   ],
   "source": [
    "# unemployment compensation\n",
    "# 0 = niu 1 = yes 2 = no\n",
    "\n",
    "df2[\"HINC_UC\"].value_counts()"
   ]
  },
  {
   "cell_type": "code",
   "execution_count": 19,
   "metadata": {},
   "outputs": [
    {
     "data": {
      "text/plain": [
       "2    67856\n",
       "0    26288\n",
       "1      489\n",
       "Name: HINC_WC, dtype: int64"
      ]
     },
     "execution_count": 19,
     "metadata": {},
     "output_type": "execute_result"
    }
   ],
   "source": [
    "# workers compensation\n",
    "#0 = niu 1 = yes 2 = no\n",
    "\n",
    "df2[\"HINC_WC\"].value_counts()"
   ]
  },
  {
   "cell_type": "code",
   "execution_count": 20,
   "metadata": {},
   "outputs": [
    {
     "data": {
      "text/plain": [
       "2    67275\n",
       "0    26288\n",
       "1     1070\n",
       "Name: HINC_FR, dtype: int64"
      ]
     },
     "execution_count": 20,
     "metadata": {},
     "output_type": "execute_result"
    }
   ],
   "source": [
    "df2['HINC_FR'].value_counts()"
   ]
  },
  {
   "cell_type": "code",
   "execution_count": 21,
   "metadata": {},
   "outputs": [],
   "source": [
    "## Condensed Dataset "
   ]
  },
  {
   "cell_type": "code",
   "execution_count": 22,
   "metadata": {},
   "outputs": [],
   "source": [
    "# new_dataframe = df[[\"HRHHID\", \"HESH2\"]], df2[['HINC_FR', 'HINC_WS', \"H_NUMPER\", \"GEREG\", \"GTMETSTA\", \"HEFAMINC\", \"HH5TO18\", \"HRHTYPE\", \"H_TELHHD\", \"H_TENURE\", \"HHINC\", \"HSEVAL\", \"HDIS_YN\", \"HDIV_YN\", \"HINC_WC\"]]"
   ]
  },
  {
   "cell_type": "code",
   "execution_count": 23,
   "metadata": {},
   "outputs": [],
   "source": [
    "ndd = df2[['HINC_FR', 'HINC_WS', \"H_NUMPER\", \"GEREG\", \"GTMETSTA\", \"HEFAMINC\", \"HH5TO18\", \"HRHTYPE\", \"H_TELHHD\", \"H_TENURE\", \"HHINC\", \"HSEVAL\", \"HDIS_YN\", \"HDIV_YN\", \"HINC_WC\"]]"
   ]
  },
  {
   "cell_type": "markdown",
   "metadata": {},
   "source": [
    "# Incomes of Entrepreneurs vs Non-Entrepreneurs "
   ]
  },
  {
   "cell_type": "code",
   "execution_count": 24,
   "metadata": {},
   "outputs": [],
   "source": [
    "#Treating the data \n",
    "\n",
    "#Farmers and Non-Farmer Entrepreneurs \n",
    "\n",
    "#Original: \n",
    "#0 = nui \n",
    "#1 = yes\n",
    "#2 = no\n",
    "\n",
    "#Changing to: \n",
    "# 1 = yes\n",
    "# 0 = no \n",
    "# 3 = needs treatment \n",
    "\n",
    "ndd['HINC_FR']=ndd['HINC_FR'].map({1:1, 0:3, 2: 2}) \n",
    "ndd['HINC_WS']=ndd['HINC_WS'].map({1:1, 0:3, 2: 2})"
   ]
  },
  {
   "cell_type": "code",
   "execution_count": 32,
   "metadata": {},
   "outputs": [],
   "source": [
    "# Must change values in separate lines of code, otherwise will get CopyWarning Error \n",
    "\n",
    "ndd['HINC_FR']=ndd['HINC_FR'].map({1:1, 3:3, 2: 0}) \n",
    "ndd['HINC_WS']=ndd['HINC_WS'].map({1:1, 3:3, 2: 0})"
   ]
  },
  {
   "cell_type": "code",
   "execution_count": 36,
   "metadata": {},
   "outputs": [
    {
     "data": {
      "text/plain": [
       "1    51533\n",
       "3    26288\n",
       "0    16812\n",
       "Name: HINC_WS, dtype: int64"
      ]
     },
     "execution_count": 36,
     "metadata": {},
     "output_type": "execute_result"
    }
   ],
   "source": [
    "ndd['HINC_WS'].value_counts()"
   ]
  },
  {
   "cell_type": "code",
   "execution_count": 50,
   "metadata": {},
   "outputs": [],
   "source": [
    "Farmer_Ent = ndd[(ndd.HINC_FR == 1)]"
   ]
  },
  {
   "cell_type": "code",
   "execution_count": 57,
   "metadata": {},
   "outputs": [
    {
     "data": {
      "text/plain": [
       "41    522\n",
       "21     27\n",
       "33     24\n",
       "31     23\n",
       "24     23\n",
       "19     21\n",
       "29     21\n",
       "22     20\n",
       "20     19\n",
       "23     19\n",
       "15     18\n",
       "26     18\n",
       "37     17\n",
       "36     16\n",
       "18     16\n",
       "25     15\n",
       "11     15\n",
       "28     15\n",
       "30     15\n",
       "34     15\n",
       "35     14\n",
       "17     14\n",
       "32     13\n",
       "40     13\n",
       "27     13\n",
       "9      12\n",
       "39     12\n",
       "14     10\n",
       "12     10\n",
       "10     10\n",
       "16      9\n",
       "7       9\n",
       "6       9\n",
       "8       8\n",
       "13      7\n",
       "38      7\n",
       "1       6\n",
       "4       5\n",
       "5       4\n",
       "2       4\n",
       "3       2\n",
       "Name: HHINC, dtype: int64"
      ]
     },
     "execution_count": 57,
     "metadata": {},
     "output_type": "execute_result"
    }
   ],
   "source": [
    "Farmer_Ent['HHINC'].value_counts()"
   ]
  },
  {
   "cell_type": "code",
   "execution_count": 79,
   "metadata": {},
   "outputs": [],
   "source": [
    "farmer_e_top_keys = Farmer_Ent['HHINC'].value_counts().index\n",
    "farmer_e_top_values = Farmer_Ent['HHINC'].value_counts().tolist()"
   ]
  },
  {
   "cell_type": "code",
   "execution_count": 80,
   "metadata": {},
   "outputs": [
    {
     "data": {
      "text/plain": [
       "Text(0.5, 1.0, 'Incomes Reported by Entrepreneur Farmers')"
      ]
     },
     "execution_count": 80,
     "metadata": {},
     "output_type": "execute_result"
    },
    {
     "data": {
      "image/png": "[encoded data removed]",
      "text/plain": [
       "<Figure size 432x288 with 1 Axes>"
      ]
     },
     "metadata": {
      "needs_background": "light"
     },
     "output_type": "display_data"
    }
   ],
   "source": [
    "plt.plot(figsize = (16,9))\n",
    "plt.bar(farmer_e_top_keys, farmer_e_top_values)\n",
    "\n",
    "plt.grid(b = True, color ='grey',\n",
    "        linestyle ='-.', linewidth = 0.5,\n",
    "        alpha = 0.7)\n",
    "\n",
    "plt.xlabel('HouseHold Income')\n",
    "plt.ylabel('Quantity')\n",
    "plt.title('Incomes Reported by Entrepreneur Farmers')"
   ]
  },
  {
   "cell_type": "code",
   "execution_count": 81,
   "metadata": {},
   "outputs": [],
   "source": [
    "# Over half of self-employed farmers reported incomes over $100k (Value = 41 in DF), \n",
    "# The second and third most common incomes reported were $50,000 to $52,499 (27) and $80,000 to $82,499 (24). "
   ]
  },
  {
   "cell_type": "markdown",
   "metadata": {},
   "source": [
    "## Non-Entrepreneur Farmers"
   ]
  },
  {
   "cell_type": "code",
   "execution_count": 84,
   "metadata": {},
   "outputs": [],
   "source": [
    "Farmer_Non_Ent = ndd[(ndd.HINC_FR == 0)]"
   ]
  },
  {
   "cell_type": "code",
   "execution_count": 86,
   "metadata": {},
   "outputs": [
    {
     "data": {
      "text/plain": [
       "41    20600\n",
       "13     1820\n",
       "21     1732\n",
       "15     1698\n",
       "1      1653\n",
       "9      1652\n",
       "11     1650\n",
       "17     1609\n",
       "7      1590\n",
       "5      1588\n",
       "25     1454\n",
       "19     1453\n",
       "8      1379\n",
       "10     1365\n",
       "6      1321\n",
       "23     1317\n",
       "4      1223\n",
       "31     1222\n",
       "29     1195\n",
       "14     1192\n",
       "12     1188\n",
       "27     1173\n",
       "16     1165\n",
       "33     1089\n",
       "20     1055\n",
       "18     1048\n",
       "22     1011\n",
       "37      991\n",
       "35      974\n",
       "24      965\n",
       "26      957\n",
       "28      892\n",
       "39      839\n",
       "32      821\n",
       "30      807\n",
       "34      701\n",
       "36      649\n",
       "38      603\n",
       "40      582\n",
       "3       581\n",
       "2       471\n",
       "Name: HHINC, dtype: int64"
      ]
     },
     "execution_count": 86,
     "metadata": {},
     "output_type": "execute_result"
    }
   ],
   "source": [
    "Farmer_Non_Ent['HHINC'].value_counts()"
   ]
  },
  {
   "cell_type": "code",
   "execution_count": 87,
   "metadata": {},
   "outputs": [],
   "source": [
    "farmer_ne_top_keys = Farmer_Non_Ent['HHINC'].value_counts().index\n",
    "farmer_ne_top_values = Farmer_Non_Ent['HHINC'].value_counts().tolist()"
   ]
  },
  {
   "cell_type": "code",
   "execution_count": 89,
   "metadata": {},
   "outputs": [
    {
     "data": {
      "text/plain": [
       "Text(0.5, 1.0, 'Incomes Reported by Non-Entrepreneur Farmers')"
      ]
     },
     "execution_count": 89,
     "metadata": {},
     "output_type": "execute_result"
    },
    {
     "data": {
      "image/png": "[encoded data removed]",
      "text/plain": [
       "<Figure size 432x288 with 1 Axes>"
      ]
     },
     "metadata": {
      "needs_background": "light"
     },
     "output_type": "display_data"
    }
   ],
   "source": [
    "plt.plot(figsize = (16,9))\n",
    "plt.bar(farmer_ne_top_keys, farmer_ne_top_values)\n",
    "\n",
    "plt.grid(b = True, color ='grey',\n",
    "        linestyle ='-.', linewidth = 0.5,\n",
    "        alpha = 0.7)\n",
    "\n",
    "plt.xlabel('HouseHold Income')\n",
    "plt.ylabel('Quantity')\n",
    "plt.title('Incomes Reported by Non-Entrepreneur Farmers')"
   ]
  },
  {
   "cell_type": "code",
   "execution_count": 90,
   "metadata": {},
   "outputs": [],
   "source": [
    "# Likewise, the most common response for Non-Entrepreneurs was also 41 (over $100k) .\n",
    "# The second and third most common responses were 13 ($30,000 to $32,499) and 21 ($50,000 TO $52,499) "
   ]
  },
  {
   "cell_type": "code",
   "execution_count": null,
   "metadata": {},
   "outputs": [],
   "source": []
  },
  {
   "cell_type": "code",
   "execution_count": null,
   "metadata": {},
   "outputs": [],
   "source": []
  },
  {
   "cell_type": "code",
   "execution_count": null,
   "metadata": {},
   "outputs": [],
   "source": []
  },
  {
   "cell_type": "code",
   "execution_count": null,
   "metadata": {},
   "outputs": [],
   "source": []
  },
  {
   "cell_type": "code",
   "execution_count": null,
   "metadata": {},
   "outputs": [],
   "source": []
  },
  {
   "cell_type": "code",
   "execution_count": null,
   "metadata": {},
   "outputs": [],
   "source": []
  },
  {
   "cell_type": "code",
   "execution_count": null,
   "metadata": {},
   "outputs": [],
   "source": []
  },
  {
   "cell_type": "code",
   "execution_count": null,
   "metadata": {},
   "outputs": [],
   "source": []
  },
  {
   "cell_type": "code",
   "execution_count": null,
   "metadata": {},
   "outputs": [],
   "source": []
  }
 ],
 "metadata": {
  "kernelspec": {
   "display_name": "Python 3",
   "language": "python",
   "name": "python3"
  },
  "language_info": {
   "codemirror_mode": {
    "name": "ipython",
    "version": 3
   },
   "file_extension": ".py",
   "mimetype": "text/x-python",
   "name": "python",
   "nbconvert_exporter": "python",
   "pygments_lexer": "ipython3",
   "version": "3.8.3"
  }
 },
 "nbformat": 4,
 "nbformat_minor": 4
}
