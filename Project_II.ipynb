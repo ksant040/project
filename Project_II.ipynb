{
 "cells": [
  {
   "cell_type": "code",
   "execution_count": 1,
   "metadata": {},
   "outputs": [],
   "source": [
    "import pandas as pd\n",
    "import matplotlib.pyplot as plt"
   ]
  },
  {
   "cell_type": "code",
   "execution_count": 65,
   "metadata": {},
   "outputs": [],
   "source": [
    "df = pd.read_csv('dec19pub.csv')\n",
    "df2 = pd.read_csv('hhpub19.csv')\n",
    "df3 = pd.read_csv('pppub19.csv')\n",
    "df4 = pd.read_csv('ffpub19.csv')"
   ]
  },
  {
   "cell_type": "code",
   "execution_count": 3,
   "metadata": {},
   "outputs": [],
   "source": [
    "letters_in_dataframe = \"HESS4\" in df"
   ]
  },
  {
   "cell_type": "code",
   "execution_count": 4,
   "metadata": {},
   "outputs": [
    {
     "name": "stdout",
     "output_type": "stream",
     "text": [
      "True\n"
     ]
    }
   ],
   "source": [
    "print(letters_in_dataframe)"
   ]
  },
  {
   "cell_type": "code",
   "execution_count": 5,
   "metadata": {},
   "outputs": [
    {
     "data": {
      "text/html": [
       "<div>\n",
       "<style scoped>\n",
       "    .dataframe tbody tr th:only-of-type {\n",
       "        vertical-align: middle;\n",
       "    }\n",
       "\n",
       "    .dataframe tbody tr th {\n",
       "        vertical-align: top;\n",
       "    }\n",
       "\n",
       "    .dataframe thead th {\n",
       "        text-align: right;\n",
       "    }\n",
       "</style>\n",
       "<table border=\"1\" class=\"dataframe\">\n",
       "  <thead>\n",
       "    <tr style=\"text-align: right;\">\n",
       "      <th></th>\n",
       "      <th>HRHHID</th>\n",
       "      <th>HRMONTH</th>\n",
       "      <th>HRYEAR4</th>\n",
       "      <th>HURESPLI</th>\n",
       "      <th>HUFINAL</th>\n",
       "      <th>HULANGCODE</th>\n",
       "      <th>HETENURE</th>\n",
       "      <th>HEHOUSUT</th>\n",
       "      <th>HETELHHD</th>\n",
       "      <th>HETELAVL</th>\n",
       "      <th>...</th>\n",
       "      <th>HRFS30D1</th>\n",
       "      <th>HRFS30D2</th>\n",
       "      <th>HRFS30D3</th>\n",
       "      <th>HRFS30D4</th>\n",
       "      <th>HRFS30D5</th>\n",
       "      <th>HRFS30D6</th>\n",
       "      <th>HRFS30D7</th>\n",
       "      <th>HRFS30D8</th>\n",
       "      <th>HRFS30D9</th>\n",
       "      <th>HRFS30DE</th>\n",
       "    </tr>\n",
       "  </thead>\n",
       "  <tbody>\n",
       "    <tr>\n",
       "      <th>0</th>\n",
       "      <td>581125017600866</td>\n",
       "      <td>12</td>\n",
       "      <td>2019</td>\n",
       "      <td>2</td>\n",
       "      <td>201</td>\n",
       "      <td>0</td>\n",
       "      <td>1</td>\n",
       "      <td>1</td>\n",
       "      <td>1</td>\n",
       "      <td>-1</td>\n",
       "      <td>...</td>\n",
       "      <td>1</td>\n",
       "      <td>1</td>\n",
       "      <td>0</td>\n",
       "      <td>-6</td>\n",
       "      <td>1</td>\n",
       "      <td>0</td>\n",
       "      <td>-6</td>\n",
       "      <td>1</td>\n",
       "      <td>0</td>\n",
       "      <td>-6</td>\n",
       "    </tr>\n",
       "    <tr>\n",
       "      <th>1</th>\n",
       "      <td>581125017600866</td>\n",
       "      <td>12</td>\n",
       "      <td>2019</td>\n",
       "      <td>2</td>\n",
       "      <td>201</td>\n",
       "      <td>0</td>\n",
       "      <td>1</td>\n",
       "      <td>1</td>\n",
       "      <td>1</td>\n",
       "      <td>-1</td>\n",
       "      <td>...</td>\n",
       "      <td>1</td>\n",
       "      <td>1</td>\n",
       "      <td>0</td>\n",
       "      <td>-6</td>\n",
       "      <td>1</td>\n",
       "      <td>0</td>\n",
       "      <td>-6</td>\n",
       "      <td>1</td>\n",
       "      <td>0</td>\n",
       "      <td>-6</td>\n",
       "    </tr>\n",
       "    <tr>\n",
       "      <th>2</th>\n",
       "      <td>581125017600866</td>\n",
       "      <td>12</td>\n",
       "      <td>2019</td>\n",
       "      <td>2</td>\n",
       "      <td>201</td>\n",
       "      <td>0</td>\n",
       "      <td>1</td>\n",
       "      <td>1</td>\n",
       "      <td>1</td>\n",
       "      <td>-1</td>\n",
       "      <td>...</td>\n",
       "      <td>1</td>\n",
       "      <td>1</td>\n",
       "      <td>0</td>\n",
       "      <td>-6</td>\n",
       "      <td>1</td>\n",
       "      <td>0</td>\n",
       "      <td>-6</td>\n",
       "      <td>1</td>\n",
       "      <td>0</td>\n",
       "      <td>-6</td>\n",
       "    </tr>\n",
       "    <tr>\n",
       "      <th>3</th>\n",
       "      <td>581125017600866</td>\n",
       "      <td>12</td>\n",
       "      <td>2019</td>\n",
       "      <td>2</td>\n",
       "      <td>201</td>\n",
       "      <td>0</td>\n",
       "      <td>1</td>\n",
       "      <td>1</td>\n",
       "      <td>1</td>\n",
       "      <td>-1</td>\n",
       "      <td>...</td>\n",
       "      <td>1</td>\n",
       "      <td>1</td>\n",
       "      <td>0</td>\n",
       "      <td>-6</td>\n",
       "      <td>1</td>\n",
       "      <td>0</td>\n",
       "      <td>-6</td>\n",
       "      <td>1</td>\n",
       "      <td>0</td>\n",
       "      <td>-6</td>\n",
       "    </tr>\n",
       "    <tr>\n",
       "      <th>4</th>\n",
       "      <td>809001585510960</td>\n",
       "      <td>12</td>\n",
       "      <td>2019</td>\n",
       "      <td>1</td>\n",
       "      <td>201</td>\n",
       "      <td>0</td>\n",
       "      <td>2</td>\n",
       "      <td>1</td>\n",
       "      <td>1</td>\n",
       "      <td>-1</td>\n",
       "      <td>...</td>\n",
       "      <td>1</td>\n",
       "      <td>1</td>\n",
       "      <td>0</td>\n",
       "      <td>-6</td>\n",
       "      <td>1</td>\n",
       "      <td>0</td>\n",
       "      <td>-6</td>\n",
       "      <td>1</td>\n",
       "      <td>0</td>\n",
       "      <td>-6</td>\n",
       "    </tr>\n",
       "  </tbody>\n",
       "</table>\n",
       "<p>5 rows × 510 columns</p>\n",
       "</div>"
      ],
      "text/plain": [
       "            HRHHID  HRMONTH  HRYEAR4  HURESPLI  HUFINAL  HULANGCODE  HETENURE  \\\n",
       "0  581125017600866       12     2019         2      201           0         1   \n",
       "1  581125017600866       12     2019         2      201           0         1   \n",
       "2  581125017600866       12     2019         2      201           0         1   \n",
       "3  581125017600866       12     2019         2      201           0         1   \n",
       "4  809001585510960       12     2019         1      201           0         2   \n",
       "\n",
       "   HEHOUSUT  HETELHHD  HETELAVL  ...  HRFS30D1  HRFS30D2  HRFS30D3  HRFS30D4  \\\n",
       "0         1         1        -1  ...         1         1         0        -6   \n",
       "1         1         1        -1  ...         1         1         0        -6   \n",
       "2         1         1        -1  ...         1         1         0        -6   \n",
       "3         1         1        -1  ...         1         1         0        -6   \n",
       "4         1         1        -1  ...         1         1         0        -6   \n",
       "\n",
       "   HRFS30D5  HRFS30D6  HRFS30D7  HRFS30D8  HRFS30D9  HRFS30DE  \n",
       "0         1         0        -6         1         0        -6  \n",
       "1         1         0        -6         1         0        -6  \n",
       "2         1         0        -6         1         0        -6  \n",
       "3         1         0        -6         1         0        -6  \n",
       "4         1         0        -6         1         0        -6  \n",
       "\n",
       "[5 rows x 510 columns]"
      ]
     },
     "execution_count": 5,
     "metadata": {},
     "output_type": "execute_result"
    }
   ],
   "source": [
    "df.head()"
   ]
  },
  {
   "cell_type": "code",
   "execution_count": 6,
   "metadata": {},
   "outputs": [],
   "source": [
    "#Pg 132- 'In the last 12 months did (you/you or other adults in your household) ever cut the size of your meals or skip meals because there wasn't enough money for food?'"
   ]
  },
  {
   "cell_type": "code",
   "execution_count": 7,
   "metadata": {},
   "outputs": [],
   "source": [
    "# 1:Yes \n",
    "# 2:No \n",
    "# -1: (blank)\n",
    "# -2:Don't Know \n",
    "# -3:Refused\n",
    "# 9:No Response"
   ]
  },
  {
   "cell_type": "code",
   "execution_count": 8,
   "metadata": {},
   "outputs": [
    {
     "data": {
      "text/plain": [
       "-1    124421\n",
       " 2      9728\n",
       " 1      4713\n",
       "-9        45\n",
       "-3        37\n",
       "-2        20\n",
       "Name: HESH2, dtype: int64"
      ]
     },
     "execution_count": 8,
     "metadata": {},
     "output_type": "execute_result"
    }
   ],
   "source": [
    "df['HESH2'].value_counts()"
   ]
  },
  {
   "cell_type": "code",
   "execution_count": 9,
   "metadata": {},
   "outputs": [],
   "source": [
    "# What does edited universe mean? "
   ]
  },
  {
   "cell_type": "code",
   "execution_count": 10,
   "metadata": {},
   "outputs": [
    {
     "data": {
      "text/plain": [
       "True"
      ]
     },
     "execution_count": 10,
     "metadata": {},
     "output_type": "execute_result"
    }
   ],
   "source": [
    "\"HINC_FR\" in df2"
   ]
  },
  {
   "cell_type": "code",
   "execution_count": 11,
   "metadata": {},
   "outputs": [
    {
     "data": {
      "text/plain": [
       "0        0\n",
       "1        0\n",
       "2        0\n",
       "3        2\n",
       "4        0\n",
       "        ..\n",
       "94628    2\n",
       "94629    2\n",
       "94630    2\n",
       "94631    2\n",
       "94632    2\n",
       "Name: HINC_FR, Length: 94633, dtype: int64"
      ]
     },
     "execution_count": 11,
     "metadata": {},
     "output_type": "execute_result"
    }
   ],
   "source": [
    "df2['HINC_FR']"
   ]
  },
  {
   "cell_type": "code",
   "execution_count": 12,
   "metadata": {},
   "outputs": [
    {
     "data": {
      "text/plain": [
       "2    67275\n",
       "0    26288\n",
       "1     1070\n",
       "Name: HINC_FR, dtype: int64"
      ]
     },
     "execution_count": 12,
     "metadata": {},
     "output_type": "execute_result"
    }
   ],
   "source": [
    "# Farm self-employment\n",
    "#0 = nui \n",
    "#1 = yes\n",
    "#2 = no\n",
    "df2['HINC_FR'].value_counts()"
   ]
  },
  {
   "cell_type": "code",
   "execution_count": 13,
   "metadata": {},
   "outputs": [
    {
     "data": {
      "text/plain": [
       "1    51533\n",
       "0    26288\n",
       "2    16812\n",
       "Name: HINC_WS, dtype: int64"
      ]
     },
     "execution_count": 13,
     "metadata": {},
     "output_type": "execute_result"
    }
   ],
   "source": [
    "# Own Business Self-Employment\n",
    "#0 = nui \n",
    "#1 = yes\n",
    "#2 = no\n",
    "df2['HINC_WS'].value_counts()"
   ]
  },
  {
   "cell_type": "code",
   "execution_count": 14,
   "metadata": {},
   "outputs": [
    {
     "data": {
      "text/plain": [
       "0     26288\n",
       "2     21659\n",
       "1     17197\n",
       "3     11162\n",
       "4     10392\n",
       "5      4878\n",
       "6      1991\n",
       "7       651\n",
       "8       242\n",
       "9        90\n",
       "10       51\n",
       "11       17\n",
       "13        8\n",
       "12        4\n",
       "14        2\n",
       "16        1\n",
       "Name: H_NUMPER, dtype: int64"
      ]
     },
     "execution_count": 14,
     "metadata": {},
     "output_type": "execute_result"
    }
   ],
   "source": [
    "#Number of persons in household\n",
    "#00=Noninterview household      01-16 = Number of persons in HHLD\n",
    "df2[\"H_NUMPER\"].value_counts()"
   ]
  },
  {
   "cell_type": "code",
   "execution_count": 15,
   "metadata": {},
   "outputs": [
    {
     "data": {
      "text/plain": [
       "3    36727\n",
       "4    24782\n",
       "2    17504\n",
       "1    15620\n",
       "Name: GEREG, dtype: int64"
      ]
     },
     "execution_count": 15,
     "metadata": {},
     "output_type": "execute_result"
    }
   ],
   "source": [
    "# Region \n",
    "# 1 = Northeast          \n",
    "# 2 = Midwest          \n",
    "# 3 = South          \n",
    "# 4 = West\n",
    "\n",
    "\n",
    "df2[\"GEREG\"].value_counts()"
   ]
  },
  {
   "cell_type": "code",
   "execution_count": 16,
   "metadata": {},
   "outputs": [
    {
     "data": {
      "text/plain": [
       "1    75271\n",
       "2    18375\n",
       "3      987\n",
       "Name: GTMETSTA, dtype: int64"
      ]
     },
     "execution_count": 16,
     "metadata": {},
     "output_type": "execute_result"
    }
   ],
   "source": [
    "# Metropolitan Status\n",
    "# 1 = Metropolitan          2 = Non-metropolitan          3 = Not identified\n",
    "\n",
    "df2[\"GTMETSTA\"].value_counts()"
   ]
  },
  {
   "cell_type": "code",
   "execution_count": 17,
   "metadata": {},
   "outputs": [],
   "source": [
    "# Family Income \n",
    "# -1=Not in universe         \n",
    "#01=Less than $5,000         02=$5,000 to $7,499         03=$7,500 to $9,999         04=$10,000 to $12,499         05=$12,500 to $14,999         \n",
    "#06=$15,000 to $19,999         07=$20,000 to $24,999         08=$25,000 to $29,999         09=$30,000 to $34,999         10=$35,000 to $39,999         11=$40,000 to $49,999         \n",
    "#12=$50,000 to $59,999         13=$60,000 to $74,999         14=$75,000 to $99,999         15=$100,000 to $149,999         16=$150,000 and over\n",
    "\n",
    "df2[\"HEFAMINC\"].value_counts()\n",
    "\n",
    "family_income = df2[\"HEFAMINC\"]"
   ]
  },
  {
   "cell_type": "code",
   "execution_count": 18,
   "metadata": {},
   "outputs": [
    {
     "data": {
      "text/plain": [
       "0    72759\n",
       "1    10622\n",
       "2     7550\n",
       "3     2694\n",
       "4      718\n",
       "5      216\n",
       "6       52\n",
       "7       15\n",
       "8        4\n",
       "9        3\n",
       "Name: HH5TO18, dtype: int64"
      ]
     },
     "execution_count": 18,
     "metadata": {},
     "output_type": "execute_result"
    }
   ],
   "source": [
    "#Number of persons in household age 5 to 18 excluding family heads and spouse \n",
    "# 00 = None      01-16 = Number persons 5 to 18\n",
    "df2[\"HH5TO18\"].value_counts()"
   ]
  },
  {
   "cell_type": "code",
   "execution_count": 19,
   "metadata": {},
   "outputs": [
    {
     "data": {
      "text/plain": [
       "1     33987\n",
       "0     26288\n",
       "7     11179\n",
       "6     10152\n",
       "4      8763\n",
       "3      3695\n",
       "2       488\n",
       "10       30\n",
       "8        19\n",
       "5        18\n",
       "9        14\n",
       "Name: HRHTYPE, dtype: int64"
      ]
     },
     "execution_count": 19,
     "metadata": {},
     "output_type": "execute_result"
    }
   ],
   "source": [
    "# HOUSEHOLD TYPE\n",
    "#00 = Non-interview household         01 = Married couple primary family (neither spouse in Armed Forces)         02 = Married couple primary family (one spouse in Armed Forces)         03 = Unmarried civilian male primary family householder         04 = Unmarried civilian female primary family householder         05 = Primary family household -reference person in Armed Forces and unmarried         06 = Civilian male nonfamily householder         07 = Civilian female nonfamily householder         08 = Nonfamily householder household -reference person in Armed Forces         09 = Group quarters with actual families  (This is new in 1994)         10 = Group quarters with secondary individuals only\n",
    "df2[\"HRHTYPE\"].value_counts()"
   ]
  },
  {
   "cell_type": "code",
   "execution_count": 20,
   "metadata": {},
   "outputs": [
    {
     "data": {
      "text/plain": [
       "1    71932\n",
       "0    19812\n",
       "2     2889\n",
       "Name: H_TELHHD, dtype: int64"
      ]
     },
     "execution_count": 20,
     "metadata": {},
     "output_type": "execute_result"
    }
   ],
   "source": [
    "# Telephone in Household\n",
    "#0 = Not in universe          1 = Yes          2 = No\n",
    "df2[\"H_TELHHD\"].value_counts()"
   ]
  },
  {
   "cell_type": "code",
   "execution_count": 21,
   "metadata": {},
   "outputs": [
    {
     "data": {
      "text/plain": [
       "1    48839\n",
       "2    26451\n",
       "0    18369\n",
       "3      974\n",
       "Name: H_TENURE, dtype: int64"
      ]
     },
     "execution_count": 21,
     "metadata": {},
     "output_type": "execute_result"
    }
   ],
   "source": [
    "# Tenure\n",
    "# 0=Not in universe          1=Owned or being bought          2=Rented         3=No cash rent\n",
    "\n",
    "df2[\"H_TENURE\"].value_counts()"
   ]
  },
  {
   "cell_type": "code",
   "execution_count": 22,
   "metadata": {},
   "outputs": [
    {
     "data": {
      "text/plain": [
       "0     26288\n",
       "41    21122\n",
       "13     1827\n",
       "21     1759\n",
       "15     1716\n",
       "11     1665\n",
       "9      1664\n",
       "1      1659\n",
       "17     1623\n",
       "7      1599\n",
       "5      1592\n",
       "19     1474\n",
       "25     1469\n",
       "8      1387\n",
       "10     1375\n",
       "23     1336\n",
       "6      1330\n",
       "31     1245\n",
       "4      1228\n",
       "29     1216\n",
       "14     1202\n",
       "12     1198\n",
       "27     1186\n",
       "16     1174\n",
       "33     1113\n",
       "20     1074\n",
       "18     1064\n",
       "22     1031\n",
       "37     1008\n",
       "24      988\n",
       "35      988\n",
       "26      975\n",
       "28      907\n",
       "39      851\n",
       "32      834\n",
       "30      822\n",
       "34      716\n",
       "36      665\n",
       "38      610\n",
       "40      595\n",
       "3       583\n",
       "2       475\n",
       "Name: HHINC, dtype: int64"
      ]
     },
     "execution_count": 22,
     "metadata": {},
     "output_type": "execute_result"
    }
   ],
   "source": [
    "#Total HouseHold Income\n",
    "#UNDER $2,500    2=$2,500 TO $4,999    3=$5,000 TO $7,499    4=$7,500 TO $9,999    5=$10,000 TO $12,499    6=$12,500 TO $14,999    7=$15,000 TO $17,499    8=$17,500 TO $19,999    9=$20,000 TO $22,499    10=$22,500 TO $24,999\n",
    "#11=$25,000 TO $27,49912=$27,500 TO $29,99913=$30,000 TO $32,49914=$32,500 TO $34,99915=$35,000 TO $37,49916=$37,500 TO $39,99917=$40,000 TO $42,49918=$42,500 TO $44,99919=$45,000 TO $47,49920=$47,500 TO $49,999\n",
    "#21=$50,000 TO $52,49922=$52,500 TO $54,99923=$55,000 TO $57,49924=$57,500 TO $59,99925=$60,000 TO $62,49926=$62,500 TO $64,99927=$65,000 TO $67,49928=$67,500 TO $69,99929=$70,000 TO $72,49930=$72,500 TO $74,999\n",
    "#31=$75,000 TO $77,49932=$77,500 TO $79,99933=$80,000 TO $82,49934=$82,500 TO $84,99935=$85,000 TO $87,49936=$87,500 TO $89,99937=$90,000 TO $92,49938=$92,500 TO $94,99939=$95,000 TO $97,49940=$97,500 TO $99,99941=$100,000 AND OVER\n",
    "\n",
    "\n",
    "df2[\"HHINC\"].value_counts()"
   ]
  },
  {
   "cell_type": "code",
   "execution_count": 23,
   "metadata": {},
   "outputs": [
    {
     "name": "stdout",
     "output_type": "stream",
     "text": [
      "-19356 1102199\n"
     ]
    }
   ],
   "source": [
    "# Household income = self-employment income \n",
    "# 0 = none negative dollar amount = income losspositive dollar amount = income\n",
    "\n",
    "print(df2[\"HSEVAL\"].min(), df2[\"HSEVAL\"].max())"
   ]
  },
  {
   "cell_type": "code",
   "execution_count": 24,
   "metadata": {},
   "outputs": [
    {
     "data": {
      "text/plain": [
       "2    67046\n",
       "0    26288\n",
       "1     1299\n",
       "Name: HDIS_YN, dtype: int64"
      ]
     },
     "execution_count": 24,
     "metadata": {},
     "output_type": "execute_result"
    }
   ],
   "source": [
    "# Does anyone in the household have a disability or health problem which prevented them from working, even for a short time, or which limited the work they could do?\n",
    "# 0 = niu 1 = yes 2 = no\n",
    "\n",
    "df2[\"HDIS_YN\"].value_counts()"
   ]
  },
  {
   "cell_type": "code",
   "execution_count": 25,
   "metadata": {},
   "outputs": [
    {
     "data": {
      "text/plain": [
       "2    56438\n",
       "0    26288\n",
       "1    11907\n",
       "Name: HDIV_YN, dtype: int64"
      ]
     },
     "execution_count": 25,
     "metadata": {},
     "output_type": "execute_result"
    }
   ],
   "source": [
    "# At any time during 20.. did anyone in this household: own any shares of stock in corporations or any mutual fund shares?\n",
    "# 0 = niu 1 = yes 2 = no\n",
    "\n",
    "df2[\"HDIV_YN\"].value_counts()"
   ]
  },
  {
   "cell_type": "code",
   "execution_count": 26,
   "metadata": {},
   "outputs": [
    {
     "data": {
      "text/plain": [
       "2    66671\n",
       "0    26288\n",
       "1     1674\n",
       "Name: HINC_UC, dtype: int64"
      ]
     },
     "execution_count": 26,
     "metadata": {},
     "output_type": "execute_result"
    }
   ],
   "source": [
    "# unemployment compensation\n",
    "# 0 = niu 1 = yes 2 = no\n",
    "\n",
    "df2[\"HINC_UC\"].value_counts()"
   ]
  },
  {
   "cell_type": "code",
   "execution_count": 27,
   "metadata": {},
   "outputs": [
    {
     "data": {
      "text/plain": [
       "2    67856\n",
       "0    26288\n",
       "1      489\n",
       "Name: HINC_WC, dtype: int64"
      ]
     },
     "execution_count": 27,
     "metadata": {},
     "output_type": "execute_result"
    }
   ],
   "source": [
    "# workers compensation\n",
    "#0 = niu 1 = yes 2 = no\n",
    "\n",
    "df2[\"HINC_WC\"].value_counts()"
   ]
  },
  {
   "cell_type": "code",
   "execution_count": 37,
   "metadata": {},
   "outputs": [],
   "source": [
    "## April 27 "
   ]
  },
  {
   "cell_type": "code",
   "execution_count": 28,
   "metadata": {},
   "outputs": [
    {
     "data": {
      "text/plain": [
       "2    67275\n",
       "0    26288\n",
       "1     1070\n",
       "Name: HINC_FR, dtype: int64"
      ]
     },
     "execution_count": 28,
     "metadata": {},
     "output_type": "execute_result"
    }
   ],
   "source": [
    "df2['HINC_FR'].value_counts()"
   ]
  },
  {
   "cell_type": "code",
   "execution_count": null,
   "metadata": {},
   "outputs": [],
   "source": []
  },
  {
   "cell_type": "code",
   "execution_count": 29,
   "metadata": {},
   "outputs": [],
   "source": [
    "farm_self = df2['HINC_FR']"
   ]
  },
  {
   "cell_type": "code",
   "execution_count": null,
   "metadata": {},
   "outputs": [],
   "source": []
  },
  {
   "cell_type": "code",
   "execution_count": 30,
   "metadata": {},
   "outputs": [],
   "source": [
    "people_self = df2['HINC_WS'] "
   ]
  },
  {
   "cell_type": "code",
   "execution_count": 33,
   "metadata": {},
   "outputs": [],
   "source": [
    "count = []\n",
    "\n",
    "for i, j in zip(farm_self, people_self):\n",
    "    if i == 1:\n",
    "        count.append(i)\n",
    "    if j ==1:\n",
    "        count.append(i)"
   ]
  },
  {
   "cell_type": "code",
   "execution_count": 34,
   "metadata": {},
   "outputs": [
    {
     "data": {
      "text/plain": [
       "52603"
      ]
     },
     "execution_count": 34,
     "metadata": {},
     "output_type": "execute_result"
    }
   ],
   "source": [
    "len(count)"
   ]
  },
  {
   "cell_type": "code",
   "execution_count": 52,
   "metadata": {},
   "outputs": [],
   "source": [
    "# new_dataframe = df[[\"HRHHID\", \"HESH2\"]], df2[['HINC_FR', 'HINC_WS', \"H_NUMPER\", \"GEREG\", \"GTMETSTA\", \"HEFAMINC\", \"HH5TO18\", \"HRHTYPE\", \"H_TELHHD\", \"H_TENURE\", \"HHINC\", \"HSEVAL\", \"HDIS_YN\", \"HDIV_YN\", \"HINC_WC\"]]"
   ]
  },
  {
   "cell_type": "code",
   "execution_count": 83,
   "metadata": {},
   "outputs": [],
   "source": [
    "new_dataframe = df2[['HINC_FR', 'HINC_WS', \"H_NUMPER\", \"GEREG\", \"GTMETSTA\", \"HEFAMINC\", \"HH5TO18\", \"HRHTYPE\", \"H_TELHHD\", \"H_TENURE\", \"HHINC\", \"HSEVAL\", \"HDIS_YN\", \"HDIV_YN\", \"HINC_WC\"]]"
   ]
  },
  {
   "cell_type": "code",
   "execution_count": 103,
   "metadata": {},
   "outputs": [
    {
     "data": {
      "text/html": [
       "<div>\n",
       "<style scoped>\n",
       "    .dataframe tbody tr th:only-of-type {\n",
       "        vertical-align: middle;\n",
       "    }\n",
       "\n",
       "    .dataframe tbody tr th {\n",
       "        vertical-align: top;\n",
       "    }\n",
       "\n",
       "    .dataframe thead th {\n",
       "        text-align: right;\n",
       "    }\n",
       "</style>\n",
       "<table border=\"1\" class=\"dataframe\">\n",
       "  <thead>\n",
       "    <tr style=\"text-align: right;\">\n",
       "      <th></th>\n",
       "      <th>HINC_FR</th>\n",
       "      <th>HINC_WS</th>\n",
       "      <th>H_NUMPER</th>\n",
       "      <th>GEREG</th>\n",
       "      <th>GTMETSTA</th>\n",
       "      <th>HEFAMINC</th>\n",
       "      <th>HH5TO18</th>\n",
       "      <th>HRHTYPE</th>\n",
       "      <th>H_TELHHD</th>\n",
       "      <th>H_TENURE</th>\n",
       "      <th>HHINC</th>\n",
       "      <th>HSEVAL</th>\n",
       "      <th>HDIS_YN</th>\n",
       "      <th>HDIV_YN</th>\n",
       "      <th>HINC_WC</th>\n",
       "    </tr>\n",
       "  </thead>\n",
       "  <tbody>\n",
       "    <tr>\n",
       "      <th>94632</th>\n",
       "      <td>2</td>\n",
       "      <td>1</td>\n",
       "      <td>2</td>\n",
       "      <td>4</td>\n",
       "      <td>1</td>\n",
       "      <td>6</td>\n",
       "      <td>0</td>\n",
       "      <td>4</td>\n",
       "      <td>1</td>\n",
       "      <td>2</td>\n",
       "      <td>21</td>\n",
       "      <td>35000</td>\n",
       "      <td>2</td>\n",
       "      <td>2</td>\n",
       "      <td>2</td>\n",
       "    </tr>\n",
       "    <tr>\n",
       "      <th>80700</th>\n",
       "      <td>2</td>\n",
       "      <td>1</td>\n",
       "      <td>1</td>\n",
       "      <td>4</td>\n",
       "      <td>1</td>\n",
       "      <td>11</td>\n",
       "      <td>0</td>\n",
       "      <td>6</td>\n",
       "      <td>1</td>\n",
       "      <td>1</td>\n",
       "      <td>6</td>\n",
       "      <td>0</td>\n",
       "      <td>2</td>\n",
       "      <td>2</td>\n",
       "      <td>2</td>\n",
       "    </tr>\n",
       "    <tr>\n",
       "      <th>47730</th>\n",
       "      <td>2</td>\n",
       "      <td>2</td>\n",
       "      <td>2</td>\n",
       "      <td>3</td>\n",
       "      <td>1</td>\n",
       "      <td>10</td>\n",
       "      <td>0</td>\n",
       "      <td>4</td>\n",
       "      <td>1</td>\n",
       "      <td>1</td>\n",
       "      <td>1</td>\n",
       "      <td>0</td>\n",
       "      <td>2</td>\n",
       "      <td>2</td>\n",
       "      <td>2</td>\n",
       "    </tr>\n",
       "    <tr>\n",
       "      <th>80697</th>\n",
       "      <td>2</td>\n",
       "      <td>2</td>\n",
       "      <td>1</td>\n",
       "      <td>4</td>\n",
       "      <td>1</td>\n",
       "      <td>12</td>\n",
       "      <td>0</td>\n",
       "      <td>6</td>\n",
       "      <td>1</td>\n",
       "      <td>2</td>\n",
       "      <td>20</td>\n",
       "      <td>0</td>\n",
       "      <td>2</td>\n",
       "      <td>2</td>\n",
       "      <td>2</td>\n",
       "    </tr>\n",
       "    <tr>\n",
       "      <th>80698</th>\n",
       "      <td>2</td>\n",
       "      <td>2</td>\n",
       "      <td>1</td>\n",
       "      <td>4</td>\n",
       "      <td>1</td>\n",
       "      <td>11</td>\n",
       "      <td>0</td>\n",
       "      <td>6</td>\n",
       "      <td>1</td>\n",
       "      <td>2</td>\n",
       "      <td>12</td>\n",
       "      <td>0</td>\n",
       "      <td>2</td>\n",
       "      <td>1</td>\n",
       "      <td>2</td>\n",
       "    </tr>\n",
       "    <tr>\n",
       "      <th>...</th>\n",
       "      <td>...</td>\n",
       "      <td>...</td>\n",
       "      <td>...</td>\n",
       "      <td>...</td>\n",
       "      <td>...</td>\n",
       "      <td>...</td>\n",
       "      <td>...</td>\n",
       "      <td>...</td>\n",
       "      <td>...</td>\n",
       "      <td>...</td>\n",
       "      <td>...</td>\n",
       "      <td>...</td>\n",
       "      <td>...</td>\n",
       "      <td>...</td>\n",
       "      <td>...</td>\n",
       "    </tr>\n",
       "    <tr>\n",
       "      <th>48588</th>\n",
       "      <td>0</td>\n",
       "      <td>0</td>\n",
       "      <td>0</td>\n",
       "      <td>3</td>\n",
       "      <td>1</td>\n",
       "      <td>-1</td>\n",
       "      <td>0</td>\n",
       "      <td>0</td>\n",
       "      <td>0</td>\n",
       "      <td>0</td>\n",
       "      <td>0</td>\n",
       "      <td>0</td>\n",
       "      <td>0</td>\n",
       "      <td>0</td>\n",
       "      <td>0</td>\n",
       "    </tr>\n",
       "    <tr>\n",
       "      <th>48598</th>\n",
       "      <td>0</td>\n",
       "      <td>0</td>\n",
       "      <td>0</td>\n",
       "      <td>3</td>\n",
       "      <td>1</td>\n",
       "      <td>-1</td>\n",
       "      <td>0</td>\n",
       "      <td>0</td>\n",
       "      <td>0</td>\n",
       "      <td>0</td>\n",
       "      <td>0</td>\n",
       "      <td>0</td>\n",
       "      <td>0</td>\n",
       "      <td>0</td>\n",
       "      <td>0</td>\n",
       "    </tr>\n",
       "    <tr>\n",
       "      <th>48604</th>\n",
       "      <td>0</td>\n",
       "      <td>0</td>\n",
       "      <td>0</td>\n",
       "      <td>3</td>\n",
       "      <td>1</td>\n",
       "      <td>-1</td>\n",
       "      <td>0</td>\n",
       "      <td>0</td>\n",
       "      <td>0</td>\n",
       "      <td>0</td>\n",
       "      <td>0</td>\n",
       "      <td>0</td>\n",
       "      <td>0</td>\n",
       "      <td>0</td>\n",
       "      <td>0</td>\n",
       "    </tr>\n",
       "    <tr>\n",
       "      <th>48606</th>\n",
       "      <td>0</td>\n",
       "      <td>0</td>\n",
       "      <td>0</td>\n",
       "      <td>3</td>\n",
       "      <td>1</td>\n",
       "      <td>-1</td>\n",
       "      <td>0</td>\n",
       "      <td>0</td>\n",
       "      <td>0</td>\n",
       "      <td>0</td>\n",
       "      <td>0</td>\n",
       "      <td>0</td>\n",
       "      <td>0</td>\n",
       "      <td>0</td>\n",
       "      <td>0</td>\n",
       "    </tr>\n",
       "    <tr>\n",
       "      <th>47316</th>\n",
       "      <td>0</td>\n",
       "      <td>0</td>\n",
       "      <td>0</td>\n",
       "      <td>3</td>\n",
       "      <td>2</td>\n",
       "      <td>-1</td>\n",
       "      <td>0</td>\n",
       "      <td>0</td>\n",
       "      <td>0</td>\n",
       "      <td>0</td>\n",
       "      <td>0</td>\n",
       "      <td>0</td>\n",
       "      <td>0</td>\n",
       "      <td>0</td>\n",
       "      <td>0</td>\n",
       "    </tr>\n",
       "  </tbody>\n",
       "</table>\n",
       "<p>94633 rows × 15 columns</p>\n",
       "</div>"
      ],
      "text/plain": [
       "       HINC_FR  HINC_WS  H_NUMPER  GEREG  GTMETSTA  HEFAMINC  HH5TO18  \\\n",
       "94632        2        1         2      4         1         6        0   \n",
       "80700        2        1         1      4         1        11        0   \n",
       "47730        2        2         2      3         1        10        0   \n",
       "80697        2        2         1      4         1        12        0   \n",
       "80698        2        2         1      4         1        11        0   \n",
       "...        ...      ...       ...    ...       ...       ...      ...   \n",
       "48588        0        0         0      3         1        -1        0   \n",
       "48598        0        0         0      3         1        -1        0   \n",
       "48604        0        0         0      3         1        -1        0   \n",
       "48606        0        0         0      3         1        -1        0   \n",
       "47316        0        0         0      3         2        -1        0   \n",
       "\n",
       "       HRHTYPE  H_TELHHD  H_TENURE  HHINC  HSEVAL  HDIS_YN  HDIV_YN  HINC_WC  \n",
       "94632        4         1         2     21   35000        2        2        2  \n",
       "80700        6         1         1      6       0        2        2        2  \n",
       "47730        4         1         1      1       0        2        2        2  \n",
       "80697        6         1         2     20       0        2        2        2  \n",
       "80698        6         1         2     12       0        2        1        2  \n",
       "...        ...       ...       ...    ...     ...      ...      ...      ...  \n",
       "48588        0         0         0      0       0        0        0        0  \n",
       "48598        0         0         0      0       0        0        0        0  \n",
       "48604        0         0         0      0       0        0        0        0  \n",
       "48606        0         0         0      0       0        0        0        0  \n",
       "47316        0         0         0      0       0        0        0        0  \n",
       "\n",
       "[94633 rows x 15 columns]"
      ]
     },
     "execution_count": 103,
     "metadata": {},
     "output_type": "execute_result"
    }
   ],
   "source": [
    "new_dataframe.sort_values(['HINC_FR'], ascending= False)"
   ]
  },
  {
   "cell_type": "code",
   "execution_count": 113,
   "metadata": {},
   "outputs": [],
   "source": [
    "new_dataframe1 = []\n",
    "\n",
    "for i in new_dataframe:\n",
    "    if i == 1:\n",
    "        new_dataframe1.append(list(new_dataframe.loc[i,:]))\n"
   ]
  },
  {
   "cell_type": "code",
   "execution_count": 114,
   "metadata": {},
   "outputs": [
    {
     "data": {
      "text/plain": [
       "[]"
      ]
     },
     "execution_count": 114,
     "metadata": {},
     "output_type": "execute_result"
    }
   ],
   "source": [
    "new_dataframe1"
   ]
  },
  {
   "cell_type": "code",
   "execution_count": 115,
   "metadata": {},
   "outputs": [
    {
     "name": "stdout",
     "output_type": "stream",
     "text": [
      "HINC_FR\n",
      "HINC_WS\n",
      "H_NUMPER\n",
      "GEREG\n",
      "GTMETSTA\n",
      "HEFAMINC\n",
      "HH5TO18\n",
      "HRHTYPE\n",
      "H_TELHHD\n",
      "H_TENURE\n",
      "HHINC\n",
      "HSEVAL\n",
      "HDIS_YN\n",
      "HDIV_YN\n",
      "HINC_WC\n"
     ]
    }
   ],
   "source": [
    "for i in new_dataframe:\n",
    "    print(i)"
   ]
  },
  {
   "cell_type": "code",
   "execution_count": null,
   "metadata": {},
   "outputs": [],
   "source": []
  }
 ],
 "metadata": {
  "kernelspec": {
   "display_name": "Python 3",
   "language": "python",
   "name": "python3"
  },
  "language_info": {
   "codemirror_mode": {
    "name": "ipython",
    "version": 3
   },
   "file_extension": ".py",
   "mimetype": "text/x-python",
   "name": "python",
   "nbconvert_exporter": "python",
   "pygments_lexer": "ipython3",
   "version": "3.8.3"
  }
 },
 "nbformat": 4,
 "nbformat_minor": 4
}
